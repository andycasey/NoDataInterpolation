{
  "nbformat": 4,
  "nbformat_minor": 0,
  "metadata": {
    "colab": {
      "provenance": [],
      "collapsed_sections": [],
      "authorship_tag": "ABX9TyNwFvWXYY/8aPL97oEV9ZrV",
      "include_colab_link": true
    },
    "kernelspec": {
      "name": "python3",
      "display_name": "Python 3"
    },
    "language_info": {
      "name": "python"
    }
  },
  "cells": [
    {
      "cell_type": "markdown",
      "metadata": {
        "id": "view-in-github",
        "colab_type": "text"
      },
      "source": [
        "<a href=\"https://colab.research.google.com/github/davidwhogg/NoDataInterpolation/blob/main/notebooks/how_to_combine_spectra.ipynb\" target=\"_parent\"><img src=\"https://colab.research.google.com/assets/colab-badge.svg\" alt=\"Open In Colab\"/></a>"
      ]
    },
    {
      "cell_type": "markdown",
      "source": [
        "# How to combine spectra without interpolation.\n",
        "\n",
        "A notebook to support and illustrate ideas in a forthcoming paper.\n",
        "\n",
        "## Authors:\n",
        "- **David W Hogg** (NYU) (MPIA) (Flatiron)\n",
        "- **Andy Casey** (Monash)\n",
        "\n",
        "## To-Do:\n",
        "- Something?"
      ],
      "metadata": {
        "id": "2zJgAlhEZEEu"
      }
    },
    {
      "cell_type": "code",
      "execution_count": null,
      "metadata": {
        "id": "OV2XsTPcZCW1"
      },
      "outputs": [],
      "source": [
        "# imports and initialize seeds, fundamental constants\n",
        "import numpy as np\n",
        "import pylab as plt\n",
        "import scipy.interpolate as interp\n",
        "np.random.seed(42)\n",
        "c = 299792458. # m / s\n",
        "sqrt2pi = np.sqrt(2. * np.pi)"
      ]
    },
    {
      "cell_type": "code",
      "source": [
        "# has to be in its own cell?\n",
        "plt.rc('figure', figsize=(6.0, 3.6), dpi=150, autolayout=True)\n",
        "# plt.rc('text', usetex=True)"
      ],
      "metadata": {
        "id": "5anH7Sfvzget"
      },
      "execution_count": null,
      "outputs": []
    },
    {
      "cell_type": "code",
      "source": [
        "# define high-level parameters, especially including spectrograph parameters\n",
        "R = 1.35e5 # resolution\n",
        "SNR = 20. # s/n ratio in the continuum\n",
        "continuum_ivar = SNR ** 2 # inverse variance of the noise in the continuum\n",
        "sigma_x = 1. / R # LSF sigma in x units\n",
        "dx = 1. / (0.85 * R) # pixel spacing in the poorly sampled data\n",
        "x_min = 8.7000 # minimum ln wavelength\n",
        "x_max = 8.7025 # maximum ln wavelength\n",
        "lines_per_x = 2.0e4 # mean density (Poisson rate) of lines per unit ln wavelength\n",
        "ew_max_x = 3.0e-5 # maximum equivalent width in x units\n",
        "ew_power = 5.0 # power parameter in EW maker"
      ],
      "metadata": {
        "id": "HUui_2CzZefd"
      },
      "execution_count": null,
      "outputs": []
    },
    {
      "cell_type": "code",
      "source": [
        "# set up the line list for the true spectral model\n",
        "x_margin = 1.e6/c # hoping no velocities are bigger than 1000 km/s\n",
        "x_range = x_max - x_min + 2. * x_margin # make lines in a bigger x range than the data range\n",
        "nlines = np.random.poisson(x_range * lines_per_x) # set the total number of lines\n",
        "line_xs = (x_min - x_margin) + x_range * np.random.uniform(size=nlines)"
      ],
      "metadata": {
        "id": "3rW768X-atC4"
      },
      "execution_count": null,
      "outputs": []
    },
    {
      "cell_type": "code",
      "source": [
        "# give those lines equivalent widths from a power-law distribution\n",
        "line_ews = ew_max_x * np.random.uniform(size=nlines) ** ew_power"
      ],
      "metadata": {
        "id": "bIV0InZCe7SI"
      },
      "execution_count": null,
      "outputs": []
    },
    {
      "cell_type": "code",
      "source": [
        "# make the synthetic spectrum (spectral expectation), and also add noise\n",
        "\n",
        "def oned_gaussian(dxs, sigma):\n",
        "    return np.exp(-0.5 * dxs ** 2 / sigma ** 2) / (sqrt2pi * sigma)\n",
        "\n",
        "def true_spectrum(xs, doppler, lxs=line_xs, ews=line_ews, sigma=sigma_x):\n",
        "    \"\"\"\n",
        "    \"\"\"\n",
        "    return np.exp(-1. * np.sum(ews[None, :] * oned_gaussian(xs[:, None] - doppler - lxs[None, :], sigma), axis=1))\n",
        "\n",
        "def ivar(ys, continuum_ivar):\n",
        "    return continuum_ivar / ys\n",
        "\n",
        "def noisy_true_spectrum(xs, doppler, continuum_ivar):\n",
        "    \"\"\"\n",
        "    \"\"\"\n",
        "    ys_true = true_spectrum(xs, doppler)\n",
        "    y_ivars = ivar(ys_true, continuum_ivar)\n",
        "    return  ys_true + np.random.normal(size=xs.shape) / np.sqrt(y_ivars), y_ivars\n",
        "\n",
        "def doppler_information(xs, doppler, continuum_ivar, dx=0.5*dx):\n",
        "    \"\"\"\n",
        "    # Bugs:\n",
        "    - Horrifying numerical derivative!\n",
        "    \"\"\"\n",
        "    dys_dx = (true_spectrum(xs, doppler + dx) - true_spectrum(xs, doppler - dx)) / (2. * dx)\n",
        "    y_ivars = ivar(true_spectrum(xs, doppler), continuum_ivar)\n",
        "    return np.sum(y_ivars * dys_dx ** 2)"
      ],
      "metadata": {
        "id": "S11G274KbgVC"
      },
      "execution_count": null,
      "outputs": []
    },
    {
      "cell_type": "code",
      "source": [
        "# create fake data with true Doppler shifts on a sinusoid of epoch number\n",
        "xs = np.arange(x_min, x_max, dx)\n",
        "n_pix = len(xs)\n",
        "n_epochs = 16\n",
        "true_dopplers = (3.e4 / c) * np.cos(np.arange(n_epochs) / 3)\n",
        "ys = np.zeros((n_epochs, n_pix))\n",
        "y_ivars = np.zeros((n_epochs, n_pix))\n",
        "y_ivars_empirical = np.zeros((n_epochs, n_pix))\n",
        "for j in range(n_epochs):\n",
        "    ys[j], y_ivars[j] = noisy_true_spectrum(xs, true_dopplers[j], continuum_ivar)\n",
        "    y_ivars_empirical[j] = ivar(ys[j], continuum_ivar)"
      ],
      "metadata": {
        "id": "loxOB3AUc2aR"
      },
      "execution_count": null,
      "outputs": []
    },
    {
      "cell_type": "code",
      "source": [
        "# show some example spectra\n",
        "fig, axes = plt.subplots(n_epochs, 1, sharex=True, sharey=True, figsize=(6., 1.5 * n_epochs))\n",
        "for j,ax in enumerate(axes):\n",
        "    ax.step(xs, ys[j], color=\"k\", where=\"mid\", alpha=0.9)\n",
        "    ax.set_title(\"epoch {}; $\\delta x = {:+f}$\".format(j, true_dopplers[j]))\n",
        "    ax.set_ylabel(r\"flux $y$\")\n",
        "ax.set_xlabel(r\"ln wavelength $x=\\ln\\,\\lambda$\")\n",
        "plt.xlim(x_min, x_max)\n",
        "plt.ylim(0.1, 1.1)\n",
        "plt.savefig(\"data.pdf\")"
      ],
      "metadata": {
        "id": "Cwr9Gc19dpcL"
      },
      "execution_count": null,
      "outputs": []
    },
    {
      "cell_type": "code",
      "source": [
        "# zoom in on one epoch and compare it to the true template.\n",
        "j = 7\n",
        "fig, axes = plt.subplots(2, 1, sharex=False, sharey=True)\n",
        "finexs = np.arange(np.min(xs), np.max(xs), 1. / (5. * R))\n",
        "for ax in axes:\n",
        "    ax.step(xs, ys[j], color=\"k\", where=\"mid\", alpha=0.9)\n",
        "    ax.set_ylabel(r\"flux $y$\")\n",
        "    ax.plot(finexs, true_spectrum(finexs, 0.), \"r-\", alpha=1.0, lw=0.5)\n",
        "    ax.ticklabel_format(useOffset=False)\n",
        "axes[0].set_xlim(8.7000, 8.70125)\n",
        "axes[1].set_xlim(8.70125, 8.7025)\n",
        "axes[0].set_ylim(-0.1, 1.1)\n",
        "axes[1].set_xlabel(r\"ln wavelength $x=\\ln\\,\\lambda$\")\n",
        "axes[0].set_title(\"epoch {}; $\\delta x = {:+f}$\".format(j, true_dopplers[j]))"
      ],
      "metadata": {
        "id": "8o7u_sfMdyfl"
      },
      "execution_count": null,
      "outputs": []
    },
    {
      "cell_type": "code",
      "source": [
        "# Set the pixel grid and model complexity for the combined spectrum\n",
        "xstar = np.arange(x_min, x_max, 1. / (3. * R))\n",
        "Mstar = len(xstar)\n",
        "P = Mstar\n",
        "print(Mstar, P, xstar.shape)"
      ],
      "metadata": {
        "id": "Zmz6ig44cSb0"
      },
      "execution_count": null,
      "outputs": []
    },
    {
      "cell_type": "code",
      "source": [
        "def design_matrix(xs, L=(x_max - x_min)):\n",
        "    X = np.ones_like(xs).reshape(len(xs), 1)\n",
        "    for j in range(1, P):\n",
        "        if j % 2 == 0:\n",
        "            X = np.concatenate((X, np.cos(np.pi * j * xs / L)[:, None]), axis=1) # looks different from paper bc 0-indexing\n",
        "        else:\n",
        "            X = np.concatenate((X, np.sin(np.pi * (j + 1) * xs / L)[:, None]), axis=1)\n",
        "    return X"
      ],
      "metadata": {
        "id": "p8TN5UDwhv2E"
      },
      "execution_count": null,
      "outputs": []
    },
    {
      "cell_type": "code",
      "source": [
        "def pack_matrices(xs, ys):\n",
        "    XX = np.array([])\n",
        "    YY = np.array([])\n",
        "    for yy,Dx in zip(ys, true_dopplers):\n",
        "        x_rest = xs - Dx\n",
        "        I = np.logical_and(x_rest > x_min, x_rest < x_max)\n",
        "        YY = np.append(YY, yy[I])\n",
        "        XX = np.append(XX, x_rest[I])\n",
        "    return design_matrix(XX), YY"
      ],
      "metadata": {
        "id": "KHfGiYqbkTa0"
      },
      "execution_count": null,
      "outputs": []
    },
    {
      "cell_type": "code",
      "source": [
        "X, Y = pack_matrices(xs, ys)\n",
        "print(X.shape, Y.shape)"
      ],
      "metadata": {
        "id": "Qt3vEfuIkXVz"
      },
      "execution_count": null,
      "outputs": []
    },
    {
      "cell_type": "code",
      "source": [
        "Xstar = design_matrix(xstar)\n",
        "print(Xstar.shape)\n",
        "thetahat, foo, bar, whatevs = np.linalg.lstsq(X, Y, rcond=None)\n",
        "print(thetahat.shape)\n",
        "ystar = Xstar @ thetahat\n",
        "print(ystar.shape)"
      ],
      "metadata": {
        "id": "ForP6tkul2_7"
      },
      "execution_count": null,
      "outputs": []
    },
    {
      "cell_type": "code",
      "source": [
        "# compare the combined spectrum to the true template.\n",
        "j = 7\n",
        "fig, axes = plt.subplots(2, 1, sharex=False, sharey=True)\n",
        "for ax in axes:\n",
        "    ax.step(xstar, ystar, color=\"k\", where=\"mid\", alpha=0.9)\n",
        "    ax.set_ylabel(r\"flux $y$\")\n",
        "    ax.plot(finexs, true_spectrum(finexs, 0.), \"r-\", alpha=1.0, lw=0.5)\n",
        "    ax.ticklabel_format(useOffset=False)\n",
        "axes[0].set_xlim(8.7000, 8.70125)\n",
        "axes[1].set_xlim(8.70125, 8.7025)\n",
        "axes[0].set_ylim(-0.1, 1.1)\n",
        "axes[1].set_xlabel(r\"ln wavelength $x=\\ln\\,\\lambda$\")\n",
        "axes[0].set_title(\"combined spectrum\".format(j, true_dopplers[j]))"
      ],
      "metadata": {
        "id": "EOxaEZvdmoP4"
      },
      "execution_count": null,
      "outputs": []
    },
    {
      "cell_type": "code",
      "source": [],
      "metadata": {
        "id": "ff-5udYpnaCj"
      },
      "execution_count": null,
      "outputs": []
    }
  ]
}